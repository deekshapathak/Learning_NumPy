{
 "cells": [
  {
   "cell_type": "markdown",
   "id": "0b7f2194",
   "metadata": {},
   "source": [
    "## numpy array operations\n"
   ]
  },
  {
   "cell_type": "markdown",
   "id": "ad3b6200",
   "metadata": {},
   "source": []
  },
  {
   "cell_type": "code",
   "execution_count": 2,
   "id": "01ec7ca3",
   "metadata": {},
   "outputs": [],
   "source": [
    "import numpy as np"
   ]
  },
  {
   "cell_type": "code",
   "execution_count": null,
   "id": "63c097f1",
   "metadata": {},
   "outputs": [
    {
     "name": "stdout",
     "output_type": "stream",
     "text": [
      "basic slicing [3 4 5 6 7]\n",
      "with step [2 4 6 8]\n",
      "neg index 7\n",
      "the 2 d array [[1 2 3]\n",
      " [4 5 6]\n",
      " [7 8 9]]\n",
      "specific element r,c 6\n",
      "\n",
      " entore row [4 5 6]\n",
      "\n",
      " entore col [2 5 8]\n"
     ]
    }
   ],
   "source": [
    "arr = np.array([1,2,3,4,5,6,7,8,9])\n",
    "print(\"basic slicing\",arr[2:7])\n",
    "print(\"with step\",arr[1:8:2])\n",
    "print(\"neg index\",arr[-3])\n",
    "\n",
    "\n",
    "\n",
    "# 2d array here we are doing slicing in 2d arr\n",
    "arr_2d=np.array([[1,2,3],\n",
    "                [4,5,6],\n",
    "                [7,8,9]]\n",
    ")\n",
    "print(\"the 2 d array\",arr_2d)\n",
    "print(\"specific element r,c\",arr_2d[1,2])\n",
    "\n",
    "print(\"\\n entire row\",arr_2d[1])\n",
    "\n",
    "#  all rown and specific column\n",
    "print(\"\\n entire col\",arr_2d[:,1])"
   ]
  },
  {
   "cell_type": "code",
   "execution_count": null,
   "id": "0b256c4a",
   "metadata": {},
   "outputs": [],
   "source": []
  },
  {
   "cell_type": "markdown",
   "id": "faded40a",
   "metadata": {},
   "source": [
    "SORTING"
   ]
  },
  {
   "cell_type": "markdown",
   "id": "ae996272",
   "metadata": {},
   "source": []
  },
  {
   "cell_type": "code",
   "execution_count": 13,
   "id": "d19b282d",
   "metadata": {},
   "outputs": [
    {
     "name": "stdout",
     "output_type": "stream",
     "text": [
      "sorted array [3 3 3 4 5 6 7 7 8 9]\n",
      "sorted array in 2 d  col wise [[1 1]\n",
      " [2 2]\n",
      " [3 3]]\n",
      "sorted array in 2 d  row  wise [[1 3]\n",
      " [1 2]\n",
      " [2 3]]\n"
     ]
    }
   ],
   "source": [
    "import numpy as np\n",
    "unsorted=np.array([3,4,5,6,7,7,8,9,3,3])\n",
    "\n",
    "print(\"sorted array\",np.sort(unsorted))\n",
    "\n",
    "arr_2d_unsorted=np.array([[3,1],[1,2],[2,3]])\n",
    "print(\"sorted array in 2 d  col wise\",np.sort(arr_2d_unsorted,axis=0))\n",
    "\n",
    "print(\"sorted array in 2 d  row  wise\",np.sort(arr_2d_unsorted,axis=1))\n"
   ]
  },
  {
   "cell_type": "code",
   "execution_count": 14,
   "id": "ab328fbb",
   "metadata": {},
   "outputs": [],
   "source": [
    "# Filter in array"
   ]
  },
  {
   "cell_type": "code",
   "execution_count": null,
   "id": "3b11b69c",
   "metadata": {},
   "outputs": [],
   "source": []
  },
  {
   "cell_type": "code",
   "execution_count": null,
   "id": "0c9d28e7",
   "metadata": {},
   "outputs": [
    {
     "name": "stdout",
     "output_type": "stream",
     "text": [
      "even [2 4 6 8]\n"
     ]
    }
   ],
   "source": [
    "numbers = np.array([1,2,3,4,5,6,7,8])\n",
    "even_number=numbers[numbers%2 ==0]\n",
    "print(\"even\",even_number)\n"
   ]
  },
  {
   "cell_type": "code",
   "execution_count": 17,
   "id": "cd6d58c8",
   "metadata": {},
   "outputs": [],
   "source": [
    "# Filter with mask"
   ]
  },
  {
   "cell_type": "code",
   "execution_count": 19,
   "id": "39db1bfd",
   "metadata": {},
   "outputs": [
    {
     "name": "stdout",
     "output_type": "stream",
     "text": [
      "numbers grt 5 [6 7 8]\n"
     ]
    }
   ],
   "source": [
    "mask = numbers > 5\n",
    "print(\"numbers grt 5\",numbers[mask])"
   ]
  },
  {
   "cell_type": "code",
   "execution_count": 20,
   "id": "7b3a22c1",
   "metadata": {},
   "outputs": [],
   "source": [
    "# fancy indexing and vs np.where()"
   ]
  },
  {
   "cell_type": "code",
   "execution_count": 24,
   "id": "2bccf257",
   "metadata": {},
   "outputs": [
    {
     "name": "stdout",
     "output_type": "stream",
     "text": [
      "[1 2 3]\n",
      " np where [6 7 8]\n",
      "[ 1  2  3  4  5 24 28 32]\n"
     ]
    }
   ],
   "source": [
    "indices = [0,1,2]\n",
    "print(numbers[indices])\n",
    "\n",
    "\n",
    "where_result = np.where(numbers > 5)\n",
    "print(\" np where\",numbers[ where_result])\n",
    "\n",
    "\n",
    "\n",
    "# conditipn arr\n",
    "con_arr = np.where(numbers > 5,numbers*4,numbers)\n",
    "print(con_arr)"
   ]
  },
  {
   "cell_type": "code",
   "execution_count": null,
   "id": "9aef13bb",
   "metadata": {},
   "outputs": [],
   "source": []
  },
  {
   "cell_type": "markdown",
   "id": "515d5b56",
   "metadata": {},
   "source": [
    "Adding and removing data\n"
   ]
  },
  {
   "cell_type": "markdown",
   "id": "6e4e7b0e",
   "metadata": {},
   "source": []
  },
  {
   "cell_type": "code",
   "execution_count": 26,
   "id": "ff3b9865",
   "metadata": {},
   "outputs": [
    {
     "name": "stdout",
     "output_type": "stream",
     "text": [
      "the combined arr [1 2 3 5 7 8]\n"
     ]
    }
   ],
   "source": [
    "arr1 = np.array([1,2,3])\n",
    "arr2 = np.array([5,7,8])\n",
    "com = np.concatenate((arr1,arr2))\n",
    "print(\"the combined arr\",com)"
   ]
  }
 ],
 "metadata": {
  "kernelspec": {
   "display_name": "virtual",
   "language": "python",
   "name": "python3"
  },
  "language_info": {
   "codemirror_mode": {
    "name": "ipython",
    "version": 3
   },
   "file_extension": ".py",
   "mimetype": "text/x-python",
   "name": "python",
   "nbconvert_exporter": "python",
   "pygments_lexer": "ipython3",
   "version": "3.10.0"
  }
 },
 "nbformat": 4,
 "nbformat_minor": 5
}
