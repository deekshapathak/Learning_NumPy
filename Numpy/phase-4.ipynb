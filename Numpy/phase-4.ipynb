{
 "cells": [
  {
   "cell_type": "code",
   "execution_count": 5,
   "id": "1c9a0fae",
   "metadata": {},
   "outputs": [
    {
     "name": "stdout",
     "output_type": "stream",
     "text": [
      "[[1 2 3]\n",
      " [4 5 6]]\n"
     ]
    }
   ],
   "source": [
    "import numpy as np\n",
    "import matplotlib.pyplot as plt\n",
    "\n",
    "\n",
    "array1 = np.array([[1,2,3],[4,5,6]])\n",
    "array2 = np.random.rand(3,3)\n",
    "array3=np.zeros((4,4))\n",
    "\n",
    "# flatfile me save files are saved\n",
    "np.save('array1.npy',array1)\n",
    "np.save('array2.npy',array2)\n",
    "np.save('array3.npy',array3)\n",
    "\n",
    "\n",
    "\n",
    "loaded_array1= np.load('array1.npy')\n",
    "print(loaded_array1)"
   ]
  },
  {
   "cell_type": "code",
   "execution_count": null,
   "id": "24815bb6",
   "metadata": {},
   "outputs": [],
   "source": []
  },
  {
   "cell_type": "markdown",
   "id": "5e561b70",
   "metadata": {},
   "source": [
    "NUMPY logo display"
   ]
  },
  {
   "cell_type": "code",
   "execution_count": null,
   "id": "5c59d0f3",
   "metadata": {},
   "outputs": [
    {
     "name": "stdout",
     "output_type": "stream",
     "text": [
      "py logo file not founded\n"
     ]
    }
   ],
   "source": [
    "try:\n",
    "    logo = np.load('numpy-logo.npy')\n",
    "    # display\n",
    "    plt.figure(figsize=(10,5))\n",
    "    plt.subplot(121)\n",
    "    plt.imshow(logo)\n",
    "    plt.title(\"numpy logo\")\n",
    "    plt.grid(False)\n",
    "\n",
    "\n",
    "    dark_logo = 1 -logo\n",
    "    plt.Subplot(122)\n",
    "    plt.imshow(dark_logo)\n",
    "    plt.title(\"numpy dark logo\")\n",
    "    plt.grid(False)\n",
    "\n",
    "except FileNotFoundError:\n",
    "    print(\"numpy logo file not founded\")"
   ]
  },
  {
   "cell_type": "markdown",
   "id": "ee630037",
   "metadata": {},
   "source": []
  }
 ],
 "metadata": {
  "kernelspec": {
   "display_name": "virtual",
   "language": "python",
   "name": "python3"
  },
  "language_info": {
   "codemirror_mode": {
    "name": "ipython",
    "version": 3
   },
   "file_extension": ".py",
   "mimetype": "text/x-python",
   "name": "python",
   "nbconvert_exporter": "python",
   "pygments_lexer": "ipython3",
   "version": "3.10.0"
  }
 },
 "nbformat": 4,
 "nbformat_minor": 5
}
