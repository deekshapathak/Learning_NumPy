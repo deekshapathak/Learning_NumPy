{
 "cells": [
  {
   "cell_type": "markdown",
   "id": "7abdfa4e",
   "metadata": {},
   "source": [
    "## Numpy array and basics here\n",
    "learn about numpy\n",
    "\n"
   ]
  },
  {
   "cell_type": "markdown",
   "id": "11b6c7bc",
   "metadata": {},
   "source": [
    "import numpy as np"
   ]
  },
  {
   "cell_type": "code",
   "execution_count": null,
   "id": "8f2766e8",
   "metadata": {},
   "outputs": [],
   "source": []
  },
  {
   "cell_type": "code",
   "execution_count": 3,
   "id": "eb806238",
   "metadata": {},
   "outputs": [],
   "source": [
    "import numpy as np\n"
   ]
  },
  {
   "cell_type": "markdown",
   "id": "96948ccf",
   "metadata": {},
   "source": []
  },
  {
   "cell_type": "markdown",
   "id": "bc9bb373",
   "metadata": {},
   "source": [
    "creating array "
   ]
  },
  {
   "cell_type": "code",
   "execution_count": null,
   "id": "b374989b",
   "metadata": {},
   "outputs": [],
   "source": [
    "arr_1d = np.array([1,2,3,4])\n",
    "print(\"here we are having 1d arr\",arr_1d)\n",
    "\n",
    "arr_2d=np.array([[1,2,3],[4,5,6]])\n",
    "print(\"here we are having 2d arr\",arr_2d)\n",
    "\n",
    "\n",
    "\n",
    "np_arr = np.array([1,2,3])\n",
    "print(\"arr multi\",np_arr*2)"
   ]
  },
  {
   "cell_type": "markdown",
   "id": "9eaf56e6",
   "metadata": {},
   "source": []
  },
  {
   "cell_type": "code",
   "execution_count": null,
   "id": "5f0ce3e4",
   "metadata": {},
   "outputs": [],
   "source": []
  },
  {
   "cell_type": "markdown",
   "id": "632fc1f6",
   "metadata": {},
   "source": [
    "array vs list"
   ]
  },
  {
   "cell_type": "markdown",
   "id": "f3f6b1e9",
   "metadata": {},
   "source": []
  },
  {
   "cell_type": "code",
   "execution_count": null,
   "id": "5b2a2332",
   "metadata": {},
   "outputs": [],
   "source": [
    "import time\n",
    "start = time.time()\n",
    "\n",
    "py_list = [i*2 for i in range(1000)]\n",
    "print(\"\\n list ops time:\",time.time() - start)\n",
    "\n",
    "\n",
    "\n",
    "start = time.time()\n",
    "np_arr = np.arange(10000) * 2\n",
    "print(\"/n list ops time:\",time.time() - start)"
   ]
  },
  {
   "cell_type": "code",
   "execution_count": null,
   "id": "e07fd5c9",
   "metadata": {},
   "outputs": [],
   "source": []
  },
  {
   "cell_type": "markdown",
   "id": "50191e47",
   "metadata": {},
   "source": [
    "Creating arr from scratch\n"
   ]
  },
  {
   "cell_type": "markdown",
   "id": "bf9143ac",
   "metadata": {},
   "source": []
  },
  {
   "cell_type": "code",
   "execution_count": null,
   "id": "b0eef0de",
   "metadata": {},
   "outputs": [],
   "source": [
    "zeros = np.zeros((3,4))\n",
    "print(\"zero arr:\\n\",zeros)\n",
    "\n",
    "\n",
    "ones=np.ones((2,3))\n",
    "print(\"zero arr:\\n\",ones)\n",
    "\n",
    "\n",
    "full =np.full((2,2),7)\n",
    "print(\"zero arr:\\n\",full)\n",
    "\n",
    "\n",
    "random=np.random.random((2,3))\n",
    "print(\"zero arr:\\n\",random)\n",
    "\n",
    "\n",
    "sequence=np.arange(0,10,2)\n",
    "print(\"zero arr:\\n\",sequence)\n",
    "\n",
    "# filled a array with a specific value\n",
    "full_arr = np.full((2,2))\n",
    "print(full_arr)\n",
    "\n",
    "\n",
    "\n",
    "# identity array\n",
    "\n",
    "iden_matrix=npl= np.eye(4)\n",
    "print(iden_matrix)\n"
   ]
  },
  {
   "cell_type": "code",
   "execution_count": null,
   "id": "5f649e2c",
   "metadata": {},
   "outputs": [],
   "source": []
  },
  {
   "cell_type": "markdown",
   "id": "d1af0e3b",
   "metadata": {},
   "source": [
    "vector,matrix,tensor"
   ]
  },
  {
   "cell_type": "markdown",
   "id": "f8a333c9",
   "metadata": {},
   "source": []
  },
  {
   "cell_type": "code",
   "execution_count": 19,
   "id": "54ea3cc8",
   "metadata": {},
   "outputs": [
    {
     "name": "stdout",
     "output_type": "stream",
     "text": [
      "vector: [1 2 3]\n",
      "matrix [[1 2 3]\n",
      " [4 5 6]]\n",
      "tensor:\n",
      " [[[1 2]\n",
      "  [4 5]]\n",
      "\n",
      " [[5 6]\n",
      "  [7 8]]]\n"
     ]
    }
   ],
   "source": [
    "vector = np.array(([1,2,3]))\n",
    "print(\"vector:\",vector)\n",
    "\n",
    "matrix = np.array([[1,2,3],\n",
    "                   [4,5,6]])\n",
    "print(\"matrix\",matrix)\n",
    "\n",
    "\n",
    "\n",
    "tensor=np.array([[[1,2],[4,5]],\n",
    "                [[5,6],[7,8]] ])\n",
    "print(\"tensor:\\n\",tensor)\n"
   ]
  },
  {
   "cell_type": "code",
   "execution_count": null,
   "id": "d86f0bc2",
   "metadata": {},
   "outputs": [],
   "source": []
  },
  {
   "cell_type": "markdown",
   "id": "a35e72f3",
   "metadata": {},
   "source": [
    "Array prop\n"
   ]
  },
  {
   "cell_type": "markdown",
   "id": "58bc5fea",
   "metadata": {},
   "source": []
  },
  {
   "cell_type": "code",
   "execution_count": 22,
   "id": "0100813c",
   "metadata": {},
   "outputs": [
    {
     "name": "stdout",
     "output_type": "stream",
     "text": [
      "shape (2, 3)\n",
      "dimenstion 2\n",
      "size 6\n",
      "datatype int64\n"
     ]
    }
   ],
   "source": [
    "arr=np.array([[1,2,3],\n",
    "            [4,5,6]])\n",
    "\n",
    "print(\"shape\",arr.shape)\n",
    "print(\"dimenstion\",arr.ndim)\n",
    "print(\"size\",arr.size)\n",
    "print(\"datatype\",arr.dtype)\n"
   ]
  },
  {
   "cell_type": "code",
   "execution_count": null,
   "id": "53ef900f",
   "metadata": {},
   "outputs": [],
   "source": []
  },
  {
   "cell_type": "markdown",
   "id": "2f2ddf14",
   "metadata": {},
   "source": [
    "Array reshaping"
   ]
  },
  {
   "cell_type": "markdown",
   "id": "4799526d",
   "metadata": {},
   "source": []
  },
  {
   "cell_type": "code",
   "execution_count": 29,
   "id": "968e0a2d",
   "metadata": {},
   "outputs": [
    {
     "name": "stdout",
     "output_type": "stream",
     "text": [
      "original array [ 0  1  2  3  4  5  6  7  8  9 10 11]\n",
      "reshape array [[ 0  1  2  3]\n",
      " [ 4  5  6  7]\n",
      " [ 8  9 10 11]]\n",
      "flattened array [ 0  1  2  3  4  5  6  7  8  9 10 11]\n",
      "\n",
      " the revaled array [ 0  1  2  3  4  5  6  7  8  9 10 11]\n",
      "\n",
      " the transpose array [[ 0  4  8]\n",
      " [ 1  5  9]\n",
      " [ 2  6 10]\n",
      " [ 3  7 11]]\n"
     ]
    }
   ],
   "source": [
    "arr=np.arange(12)\n",
    "print(\"original array\",arr)\n",
    "\n",
    "reshape = arr.reshape([3,4])\n",
    "print(\"reshape array\",reshape)\n",
    "\n",
    "\n",
    "# copy returned\n",
    "flattened=reshape.flatten()\n",
    "print(\"flattened array\",flattened)\n",
    "\n",
    "# return view instead of copy\n",
    "raveled = reshape.ravel()\n",
    "print(\"\\n the revaled array\",raveled)\n",
    "\n",
    "\n",
    "\n",
    "# Transpose matrix convert row into column and column into row\n",
    "transpose = reshape.T\n",
    "print(\"\\n the transpose array\",transpose)\n"
   ]
  },
  {
   "cell_type": "code",
   "execution_count": null,
   "id": "eb9c9284",
   "metadata": {},
   "outputs": [],
   "source": []
  },
  {
   "cell_type": "code",
   "execution_count": 4,
   "id": "c02b1dca",
   "metadata": {},
   "outputs": [
    {
     "name": "stdout",
     "output_type": "stream",
     "text": [
      "[15 25 35]\n",
      "[20 40 60]\n",
      "[ 8 18 28]\n"
     ]
    }
   ],
   "source": [
    "# maths operations\n",
    "arr= np.array([10,20,30])\n",
    "print(arr + 5)\n",
    "print(arr *2)\n",
    "print(arr -2)"
   ]
  }
 ],
 "metadata": {
  "kernelspec": {
   "display_name": "Python 3",
   "language": "python",
   "name": "python3"
  },
  "language_info": {
   "codemirror_mode": {
    "name": "ipython",
    "version": 3
   },
   "file_extension": ".py",
   "mimetype": "text/x-python",
   "name": "python",
   "nbconvert_exporter": "python",
   "pygments_lexer": "ipython3",
   "version": "3.10.0"
  }
 },
 "nbformat": 4,
 "nbformat_minor": 5
}
